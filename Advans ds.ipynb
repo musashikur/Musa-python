{
 "cells": [
  {
   "cell_type": "code",
   "execution_count": 10,
   "metadata": {},
   "outputs": [
    {
     "name": "stdout",
     "output_type": "stream",
     "text": [
      "[0, 4, 16, 36, 64, 100, 144, 196, 256, 324]\n",
      "hi\n",
      "['even', 'odd', 'even', 'odd', 'even', 'odd', 'even', 'odd', 'even', 'odd', 'even', 'odd', 'even', 'odd', 'even']\n",
      "[1, 2, 3, 4, 4, 5, 3, 5, 6, 7, 7]\n",
      "300\n",
      "250\n"
     ]
    }
   ],
   "source": [
    "squares =[x**2 for x in range(20) if x%2==0]\n",
    "print(squares)\n",
    "print(\"hi\")\n",
    "party=[\"even\" if x%2==0 else \"odd\" for  x  in range(15)]\n",
    "print(party)\n",
    "\n",
    "nestedlist=[[1,2,3,4],[4,5],[3,5,6,7,7]]\n",
    "flatten=[item for sublist in nestedlist for item in sublist]\n",
    "print(flatten)\n",
    "txn=[300,700,250,500,900]\n",
    "for  x in txn:\n",
    "    if x<500:\n",
    "        print(x)\n",
    "#print(x for x in txn if x<500)"
   ]
  }
 ],
 "metadata": {
  "kernelspec": {
   "display_name": "Python 3",
   "language": "python",
   "name": "python3"
  },
  "language_info": {
   "codemirror_mode": {
    "name": "ipython",
    "version": 3
   },
   "file_extension": ".py",
   "mimetype": "text/x-python",
   "name": "python",
   "nbconvert_exporter": "python",
   "pygments_lexer": "ipython3",
   "version": "3.13.0"
  }
 },
 "nbformat": 4,
 "nbformat_minor": 2
}
