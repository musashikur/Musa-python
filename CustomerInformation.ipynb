def add_customer(account_number, name, account_type,
initial_balance=0.0):
    customers[account_number] = (name, account_type)
    balances[account_number] = initial_balance

